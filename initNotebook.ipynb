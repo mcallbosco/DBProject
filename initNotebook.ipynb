{
    "metadata": {
        "kernelspec": {
            "name": "SQL",
            "display_name": "SQL",
            "language": "sql"
        },
        "language_info": {
            "name": "sql",
            "version": ""
        }
    },
    "nbformat_minor": 2,
    "nbformat": 4,
    "cells": [
        {
            "cell_type": "code",
            "source": [
                "-- Nuke database\n",
                "DROP DATABASE IF EXISTS shipping;\n",
                "CREATE DATABASE shipping;\n",
                "USE shipping;"
            ],
            "metadata": {
                "azdata_cell_guid": "374ae9bb-5934-4e02-bd7f-497dbd9f5e90",
                "language": "sql"
            },
            "outputs": [
                {
                    "output_type": "display_data",
                    "data": {
                        "text/html": "Commands completed successfully"
                    },
                    "metadata": {}
                },
                {
                    "output_type": "display_data",
                    "data": {
                        "text/html": "Commands completed successfully"
                    },
                    "metadata": {}
                },
                {
                    "output_type": "display_data",
                    "data": {
                        "text/html": "Commands completed successfully"
                    },
                    "metadata": {}
                },
                {
                    "output_type": "display_data",
                    "data": {
                        "text/html": "Total execution time: 00:00:03.735"
                    },
                    "metadata": {}
                }
            ],
            "execution_count": 1
        },
        {
            "cell_type": "code",
            "source": [
                "use shipping;\n",
                "\n",
                "\n",
                "Create Table destination_address (\n",
                "    id INT PRIMARY KEY,\n",
                "    country VARCHAR(2),\n",
                "    name_line VARCHAR(255),\n",
                "    first_name VARCHAR(50),\n",
                "    last_name VARCHAR(50),\n",
                "    organisation_name VARCHAR(255),\n",
                "    administrative_area VARCHAR(50),\n",
                "    sub_administrative_area VARCHAR(50),\n",
                "    locality VARCHAR(50),\n",
                "    dependent_locality VARCHAR(50),\n",
                "    postal_code VARCHAR(50),\n",
                "    thoroughfare VARCHAR(255),\n",
                "    premise VARCHAR(255),\n",
                "    sub_premise VARCHAR(255)\n",
                ");\n",
                "\n",
                "Create Table facilities (\n",
                "    id INT PRIMARY KEY,\n",
                "    name VARCHAR(50),\n",
                "    address_id INT,\n",
                "    type INT,\n",
                "    arrived_status_code INT,\n",
                "    departed_status_code INT,\n",
                "    FOREIGN KEY (address_id) REFERENCES destination_address(id) ON DELETE CASCADE\n",
                ");\n",
                "\n",
                "\n",
                "Create Table insurance_type(\n",
                "    id INT PRIMARY KEY,\n",
                "    name VARCHAR(50),\n",
                "    description VARCHAR(255),\n",
                "    min_coverage DECIMAL(10, 2),\n",
                "    max_coverage DECIMAL(10, 2),\n",
                "    cost_per500Miles DECIMAL(10, 2)\n",
                ");\n",
                "\n",
                "\n",
                "Create Table insurance (\n",
                "    id INT PRIMARY KEY,\n",
                "    type INT,\n",
                "    price DECIMAL(10, 2),\n",
                "    value_coverage DECIMAL(10, 2),\n",
                "    FOREIGN KEY (type) REFERENCES insurance_type(id) ON DELETE CASCADE\n",
                ");\n",
                "Create Table shipment_type (\n",
                "    id INT PRIMARY KEY,\n",
                "    name VARCHAR(50),\n",
                "    priority INT,\n",
                "    description VARCHAR(255),\n",
                "    days_per500Miles INT,\n",
                "    cost_per500Miles DECIMAL(10, 2)\n",
                ");\n",
                "\n",
                "\n",
                "\n",
                "\n",
                "CREATE TABLE package (\n",
                "    id INT PRIMARY KEY,\n",
                "    width INT,    -- In centimeters\n",
                "    length INT,     -- In centimeters\n",
                "    height INT,   -- In centimeters\n",
                "    weight INT,  -- In grams\n",
                "    price DECIMAL(10, 2),  -- In dollars\n",
                "    type INT,\n",
                "    insurance_id INT,\n",
                "    shipment_id INT,\n",
                "    estimated_distance INT,\n",
                "    estimated_time_from_dispatch INT,\n",
                "    time_created TIMESTAMP,\n",
                "    time_updated TIMESTAMP,\n",
                "    time_of_dispatch TIMESTAMP,\n",
                "    time_of_delivery TIMESTAMP,\n",
                "    delivery_cordinates_x DECIMAL(6,4),\n",
                "    delivery_cordinates_y DECIMAL(6,4),\n",
                "    delivery_conformation VARCHAR(255),\n",
                "    FOREIGN KEY (insurance_id) REFERENCES insurance(id) ON DELETE CASCADE, \n",
                "    -- MySQL can't just reference insurance, needs to be more specific.\n",
                "    FOREIGN KEY (shipment_id) REFERENCES shipment_type(id) ON DELETE CASCADE\n",
                ");\n",
                "\n",
                "\n",
                "CREATE TABLE accounts(\n",
                "    id INT PRIMARY KEY,\n",
                "    username VARCHAR(50),\n",
                "    roll VARCHAR(10),\n",
                "    facility_id INT,\n",
                "    FOREIGN KEY (facility_id) REFERENCES facilities(id) ON DELETE SET NULL\n",
                ");\n",
                "\n",
                "\n",
                "\n",
                "Create Table package_status (\n",
                "    id INT PRIMARY KEY AUTO_INCREMENT,\n",
                "    package_id INT, \n",
                "    status INT,\n",
                "    time_created TIMESTAMP,\n",
                "    location_x DECIMAL(6,4),\n",
                "    location_y DECIMAL(6,4),\n",
                "    location_name VARCHAR(255),\n",
                "    location_id INT,\n",
                "    FOREIGN KEY (package_id) REFERENCES package(id) ON DELETE CASCADE,\n",
                "    FOREIGN KEY (location_id) REFERENCES facilities(id) ON DELETE SET NULL\n",
                "    \n",
                ");\n",
                "\n",
                "Create Table ready_for_assignment (\n",
                "    id INT PRIMARY KEY AUTO_INCREMENT,\n",
                "    package_id INT,\n",
                "    time_created TIMESTAMP,\n",
                "    location INT, --facility_id\n",
                "    FOREIGN KEY (package_id) REFERENCES package(id) ON DELETE CASCADE,\n",
                "    FOREIGN KEY (location) REFERENCES facilities(id) ON DELETE SET NULL\n",
                ");\n",
                "\n",
                "\n",
                "Create Table status_info (\n",
                "    id INT PRIMARY KEY,\n",
                "    name VARCHAR(50),\n",
                "    description VARCHAR(255),\n",
                "    progress_bar_percentage INT,\n",
                "    tense_name VARCHAR(50)\n",
                ");\n",
                "\n",
                "Create Table package_assignment (\n",
                "    id INT PRIMARY KEY AUTO_INCREMENT,\n",
                "    package_id INT,\n",
                "    driver_id INT,\n",
                "    status INT, -- 0 for not ready, 1 for ready, 2 for dispatched, 3 for completed\n",
                "    time_assigned TIMESTAMP,\n",
                "    time_dispatched TIMESTAMP,\n",
                "    time_completed TIMESTAMP,\n",
                "    to_address BIT, -- 1 if destination, 0 if other\n",
                "    from_facility_id INT,\n",
                "    to_facility_id INT,\n",
                "    FOREIGN KEY (package_id) REFERENCES package(id) ON DELETE CASCADE,\n",
                "    FOREIGN KEY (driver_id) REFERENCES accounts(id) ON DELETE CASCADE,\n",
                "    FOREIGN KEY (from_facility_id) REFERENCES facilities(id) ON DELETE CASCADE,\n",
                "    FOREIGN KEY (to_facility_id) REFERENCES facilities(id) ON DELETE CASCADE\n",
                ");"
            ],
            "metadata": {
                "azdata_cell_guid": "d94ac79f-e3d5-40e7-8e4f-ba23b921f44c",
                "language": "sql"
            },
            "outputs": [
                {
                    "output_type": "display_data",
                    "data": {
                        "text/html": "Commands completed successfully"
                    },
                    "metadata": {}
                },
                {
                    "output_type": "display_data",
                    "data": {
                        "text/html": "Commands completed successfully"
                    },
                    "metadata": {}
                },
                {
                    "output_type": "display_data",
                    "data": {
                        "text/html": "Commands completed successfully"
                    },
                    "metadata": {}
                },
                {
                    "output_type": "display_data",
                    "data": {
                        "text/html": "Commands completed successfully"
                    },
                    "metadata": {}
                },
                {
                    "output_type": "display_data",
                    "data": {
                        "text/html": "Commands completed successfully"
                    },
                    "metadata": {}
                },
                {
                    "output_type": "display_data",
                    "data": {
                        "text/html": "Commands completed successfully"
                    },
                    "metadata": {}
                },
                {
                    "output_type": "display_data",
                    "data": {
                        "text/html": "Commands completed successfully"
                    },
                    "metadata": {}
                },
                {
                    "output_type": "display_data",
                    "data": {
                        "text/html": "Commands completed successfully"
                    },
                    "metadata": {}
                },
                {
                    "output_type": "display_data",
                    "data": {
                        "text/html": "Commands completed successfully"
                    },
                    "metadata": {}
                },
                {
                    "output_type": "display_data",
                    "data": {
                        "text/html": "Commands completed successfully"
                    },
                    "metadata": {}
                },
                {
                    "output_type": "display_data",
                    "data": {
                        "text/html": "Commands completed successfully"
                    },
                    "metadata": {}
                },
                {
                    "output_type": "display_data",
                    "data": {
                        "text/html": "Commands completed successfully"
                    },
                    "metadata": {}
                },
                {
                    "output_type": "display_data",
                    "data": {
                        "text/html": "Total execution time: 00:00:00.348"
                    },
                    "metadata": {}
                }
            ],
            "execution_count": 2
        },
        {
            "cell_type": "code",
            "source": [
                "INSERT INTO package(id) VALUES(1000000000);\n",
                "--Insurance codes\n",
                "INSERT INTO insurance_type (id, name, description, min_coverage, max_coverage, cost_per500Miles)\n",
                "VALUES \n",
                "(1, 'Basic Parcel', 'Standard coverage for low-value domestic shipments', 100.00, 1000.00, 0.05),\n",
                "\n",
                "(2, 'Premium Parcel', 'Enhanced coverage for valuable domestic shipments', 1000.01, 5000.00, 0.06),\n",
                "\n",
                "(3, 'Perishable Goods', 'Coverage for temperature-sensitive and perishable items', 500.00, 10000.00, 0.09);\n",
                "\n",
                "\n",
                "INSERT INTO status_info (id, name, tense_name, description, progress_bar_percentage) VALUES\n",
                "-- Initial States\n",
                "(1, 'Scanned', 'has been scanned', 'Package has been scanned into the system but not yet dispatched', 10),\n",
                "(2, 'Dispatched', 'is being dispatched', 'Package has been dispatched for delivery', 15),\n",
                "(3, 'In Transit', 'is in transit', 'Package is in transit between facilities', 25),\n",
                "(4, 'Processing', 'is being processed', 'Package is being processed at a facility', NULL),\n",
                "(5, 'Delivered', 'has been delivered', 'Package has been successfully delivered to its destination', 100),\n",
                "(6, 'Lost', 'has been lost', 'Package has been reported as lost', 0),\n",
                "(7, 'Damaged', 'has been damaged', 'Package has been reported as damaged', 0),\n",
                "(8, 'Returned', 'is being returned', 'Package is being returned to sender', 0),\n",
                "(9, 'Cancelled', 'has been cancelled', 'Delivery has been cancelled', 0),\n",
                "(10, 'On Hold', 'is on hold', 'Package delivery is temporarily on hold', 0),\n",
                "(11, 'Out for Delivery', 'is out for delivery', 'Package is out for final delivery', 90),\n",
                "(12, 'reserved', 'reserved', 'reserved', 0),\n",
                "(13, 'reserved', 'reserved', 'reserved', 0),\n",
                "(14, 'reserved', 'reserved', 'reserved', 0),\n",
                "(15, 'reserved', 'reserved', 'reserved', 0),\n",
                "(16, 'reserved', 'reserved', 'reserved', 0),\n",
                "(17, 'reserved', 'reserved', 'reserved', 0),\n",
                "(18, 'reserved', 'reserved', 'reserved', 0),\n",
                "(19, 'reserved', 'reserved', 'reserved', 0),\n",
                "\n",
                "\n",
                "-- Facility Status Codes\n",
                "(20, 'Arrived at Facility', 'has arrived at facility', 'Package has arrived at a general facility', NULL),\n",
                "(21, 'Departed from Facility', 'has departed from facility', 'Package has departed from a general facility', NULL),\n",
                "(22, 'Arrived at Local Facility', 'has arrived at local facility', 'Package has arrived at a local facility', NULL),\n",
                "(23, 'Departed from Local Facility', 'has departed from local facility', 'Package has departed from local facility', NULL);\n",
                "\n",
                "\n",
                "INSERT INTO destination_address (\n",
                "    id,\n",
                "    country,\n",
                "    name_line,\n",
                "    first_name,\n",
                "    last_name,\n",
                "    organisation_name,\n",
                "    administrative_area,\n",
                "    locality,\n",
                "    postal_code,\n",
                "    thoroughfare,\n",
                "    premise\n",
                ") VALUES \n",
                "    (0, 'US', 'John Doe', 'John', 'Doe', 'Doe Inc.', 'CA', 'Santa Clara', '95050', '123 Main St.', 'Apt 1'),    -- Default address\n",
                "    (101, 'US', 'Chicago Distribution Center', 'Chicago', 'Distribution Center', 'Chicago DC Inc.', 'IL', 'Chicago', '60601', '123 Main St.', 'Suite 100'),\n",
                "    (102, 'US', 'LA Port Facility', 'LA', 'Port Facility', 'LA Port Inc.', 'CA', 'Los Angeles', '90001', '456 Harbor Blvd.', 'Dock 2'),\n",
                "    (103, 'US', 'NYC Distribution Hub', 'NYC', 'Distribution Hub', 'NYC Hub Inc.', 'NY', 'New York', '10001', '789 Broadway', 'Floor 3'),\n",
                "    (104, 'US', 'Dallas Sorting Center', 'Dallas', 'Sorting Center', 'Dallas Sorting Inc.', 'TX', 'Dallas', '75201', '321 Elm St.', 'Building 4'),\n",
                "    (105, 'US', 'Miami International Hub', 'Miami', 'International Hub', 'Miami Hub Inc.', 'FL', 'Miami', '33101', '987 Ocean Dr.', 'Terminal 5'),\n",
                "    (106, 'US', 'Seattle Port Center', 'Seattle', 'Port Center', 'Seattle Port Inc.', 'WA', 'Seattle', '98101', '654 Harbor Ave.', 'Pier 7'),\n",
                "    (107, 'US', 'Denver Local Hub', 'Denver', 'Local Hub', 'Denver Hub Inc.', 'CO', 'Denver', '80201', '741 Main St.', 'Suite 200'),\n",
                "    (108, 'US', 'Atlanta Distribution Center', 'Atlanta', 'Distribution Center', 'Atlanta DC Inc.', 'GA', 'Atlanta', '30301', '852 Peachtree St.', 'Building 3'),\n",
                "    (109, 'US', 'Boston Local Center', 'Boston', 'Local Center', 'Boston Center Inc.', 'MA', 'Boston', '02101', '369 Beacon St.', 'Floor 2'),\n",
                "    (110, 'US', 'Phoenix Sorting Facility', 'Phoenix', 'Sorting Facility', 'Phoenix Sorting Inc.', 'AZ', 'Phoenix', '85001', '456 Desert Rd.', 'Unit 1');\n",
                "\n",
                "\n",
                "INSERT INTO facilities (\n",
                "    id,\n",
                "    name,\n",
                "    address_id,\n",
                "    type,\n",
                "    arrived_status_code,\n",
                "    departed_status_code\n",
                ") VALUES \n",
                "    (0, 'Address' , 0, 0,5,5),\n",
                "    (1, 'Chicago Distribution Center', 101, 1, 20, 21),\n",
                "    (2, 'LA Port Facility', 102, 2, 20, 21),\n",
                "    (3, 'NYC Distribution Hub', 103, 1, 20, 21),\n",
                "    (4, 'Dallas Sorting Center', 104, 4, 20, 21),\n",
                "    (5, 'Phoenix Sorting Facility', 110, 4, 20, 21);\n",
                "\n",
                "INSERT INTO accounts (id, username, roll, facility_id) VALUES\n",
                "(1, 'driver1', 'Driver', 1),\n",
                "(2, 'driver2', 'Driver', 1),\n",
                "(3, 'driver3', 'Driver', 1),\n",
                "(4, 'driver4', 'Driver', 2),\n",
                "(5, 'driver5', 'Driver', 2),\n",
                "(6, 'driver6', 'Driver', 2),\n",
                "(7, 'driver7', 'Driver', 3),\n",
                "(8, 'driver8', 'Driver', 3),\n",
                "(9, 'driver9', 'Driver', 3),\n",
                "(10, 'driver10', 'Driver', 4),\n",
                "(11, 'driver11', 'Driver', 4),\n",
                "(12, 'driver12', 'Driver', 4),\n",
                "(13, 'driver13', 'Driver', 5),\n",
                "(14, 'driver14', 'Driver', 5),\n",
                "(15, 'driver15', 'Driver', 5);\n",
                "\n",
                "INSERT INTO accounts (id, username, roll, facility_id) VALUES\n",
                "(16, 'clerk1', 'Clerk', 1),\n",
                "(17, 'clerk2', 'Clerk', 2),\n",
                "(18, 'clerk3', 'Clerk', 3),\n",
                "(19, 'clerk4', 'Clerk', 4),\n",
                "(20, 'clerk5', 'Clerk', 5);\n",
                "INSERT INTO accounts (id, username, roll, facility_id) VALUES\n",
                "(21, 'manager1', 'Manager', 1),\n",
                "(22, 'manager2', 'Manager', 2),\n",
                "(23, 'manager3', 'Manager', 3),\n",
                "(24, 'manager4', 'Manager', 4),\n",
                "(25, 'manager5', 'Manager', 5);\n",
                "\n",
                "\n",
                "\n",
                "\n",
                "\n",
                "\n",
                "\n",
                "INSERT INTO shipment_type(\n",
                "    id,\n",
                "    name,\n",
                "    priority,\n",
                "    description,\n",
                "    days_per500Miles,\n",
                "    cost_per500Miles\n",
                ") VALUES\n",
                "(1, 'Standard', 1, 'Standard delivery service', 1, 1),\n",
                "(2, 'Express', 2, 'Express delivery service', .5, 2),\n",
                "(3, 'Overnight', 3, 'Overnight delivery service', .3, 3);"
            ],
            "metadata": {
                "azdata_cell_guid": "d0cbaabf-c44e-41eb-b379-761ba6275e32",
                "language": "sql",
                "tags": []
            },
            "outputs": [
                {
                    "output_type": "display_data",
                    "data": {
                        "text/html": "Commands completed successfully"
                    },
                    "metadata": {}
                },
                {
                    "output_type": "display_data",
                    "data": {
                        "text/html": "Commands completed successfully"
                    },
                    "metadata": {}
                },
                {
                    "output_type": "display_data",
                    "data": {
                        "text/html": "Commands completed successfully"
                    },
                    "metadata": {}
                },
                {
                    "output_type": "display_data",
                    "data": {
                        "text/html": "Commands completed successfully"
                    },
                    "metadata": {}
                },
                {
                    "output_type": "display_data",
                    "data": {
                        "text/html": "Commands completed successfully"
                    },
                    "metadata": {}
                },
                {
                    "output_type": "display_data",
                    "data": {
                        "text/html": "Commands completed successfully"
                    },
                    "metadata": {}
                },
                {
                    "output_type": "display_data",
                    "data": {
                        "text/html": "Commands completed successfully"
                    },
                    "metadata": {}
                },
                {
                    "output_type": "display_data",
                    "data": {
                        "text/html": "Commands completed successfully"
                    },
                    "metadata": {}
                },
                {
                    "output_type": "display_data",
                    "data": {
                        "text/html": "Commands completed successfully"
                    },
                    "metadata": {}
                },
                {
                    "output_type": "display_data",
                    "data": {
                        "text/html": "Total execution time: 00:00:00.050"
                    },
                    "metadata": {}
                }
            ],
            "execution_count": 3
        }
    ]
}