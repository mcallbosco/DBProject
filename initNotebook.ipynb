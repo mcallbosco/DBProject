{
    "metadata": {
        "kernelspec": {
            "name": "SQL",
            "display_name": "SQL",
            "language": "sql"
        },
        "language_info": {
            "name": "sql",
            "version": ""
        }
    },
    "nbformat_minor": 2,
    "nbformat": 4,
    "cells": [
        {
            "cell_type": "code",
            "source": [
                "-- Nuke database\r\n",
                "DROP DATABASE IF EXISTS shipping;\r\n",
                "CREATE DATABASE shipping;\r\n",
                "USE shipping;"
            ],
            "metadata": {
                "azdata_cell_guid": "374ae9bb-5934-4e02-bd7f-497dbd9f5e90",
                "language": "sql"
            },
            "outputs": [
                {
                    "output_type": "display_data",
                    "data": {
                        "text/html": "Commands completed successfully"
                    },
                    "metadata": {}
                },
                {
                    "output_type": "display_data",
                    "data": {
                        "text/html": "Commands completed successfully"
                    },
                    "metadata": {}
                },
                {
                    "output_type": "display_data",
                    "data": {
                        "text/html": "Commands completed successfully"
                    },
                    "metadata": {}
                },
                {
                    "output_type": "display_data",
                    "data": {
                        "text/html": "Total execution time: 00:00:00.017"
                    },
                    "metadata": {}
                }
            ],
            "execution_count": 2
        },
        {
            "cell_type": "code",
            "source": [
                "-- This is mysql\r\n",
                "-- new table package. make key id, width, lendth, height, weight, price, insurance_id, shipment__id, estimated_distance, estimated_time\r\n",
                "--Table Creation\r\n",
                "use shipping;\r\n",
                "CREATE TABLE package (\r\n",
                "    id INT PRIMARY KEY,\r\n",
                "    width INT,    -- In centimeters\r\n",
                "    length INT,     -- In centimeters\r\n",
                "    height INT,   -- In centimeters\r\n",
                "    weight INT,  -- In grams\r\n",
                "    price DECIMAL(10, 2),  -- In dollars\r\n",
                "    type INT,\r\n",
                "    insurance_id INT,\r\n",
                "    shipment_id INT,\r\n",
                "    estimated_distance INT,\r\n",
                "    estimated_time_from_dispatch INT,\r\n",
                "    time_created TIMESTAMP,\r\n",
                "    time_updated TIMESTAMP,\r\n",
                "    time_of_dispatch TIMESTAMP,\r\n",
                "    time_of_delivery TIMESTAMP\r\n",
                ");\r\n",
                "\r\n",
                "\r\n",
                "Create Table shipment_type (\r\n",
                "    id INT PRIMARY KEY,\r\n",
                "    name VARCHAR(50),\r\n",
                "    priority INT,\r\n",
                "    description VARCHAR(255),\r\n",
                "    days_per500Miles INT,\r\n",
                "    cost_per500Miles DECIMAL(10, 2)\r\n",
                ");\r\n",
                "\r\n",
                "Create Table insurance (\r\n",
                "    id INT PRIMARY KEY,\r\n",
                "    type INT,\r\n",
                "    price DECIMAL(10, 2),\r\n",
                "    value_coverage DECIMAL(10, 2)\r\n",
                "\r\n",
                ");\r\n",
                "Create Table insuranceType(\r\n",
                "    id INT PRIMARY KEY,\r\n",
                "    name VARCHAR(50),\r\n",
                "    description VARCHAR(255)\r\n",
                ");\r\n",
                ""
            ],
            "metadata": {
                "azdata_cell_guid": "d94ac79f-e3d5-40e7-8e4f-ba23b921f44c",
                "language": "sql"
            },
            "outputs": [
                {
                    "output_type": "display_data",
                    "data": {
                        "text/html": "Commands completed successfully"
                    },
                    "metadata": {}
                },
                {
                    "output_type": "display_data",
                    "data": {
                        "text/html": "Commands completed successfully"
                    },
                    "metadata": {}
                },
                {
                    "output_type": "display_data",
                    "data": {
                        "text/html": "Commands completed successfully"
                    },
                    "metadata": {}
                },
                {
                    "output_type": "display_data",
                    "data": {
                        "text/html": "Commands completed successfully"
                    },
                    "metadata": {}
                },
                {
                    "output_type": "display_data",
                    "data": {
                        "text/html": "Commands completed successfully"
                    },
                    "metadata": {}
                },
                {
                    "output_type": "display_data",
                    "data": {
                        "text/html": "Total execution time: 00:00:00.050"
                    },
                    "metadata": {}
                }
            ],
            "execution_count": 4
        },
        {
            "cell_type": "code",
            "source": [
                "-- Constraint Creation\r\n",
                "-- id must be a 10 digit number\r\n",
                "ALTER TABLE users\r\n",
                "ADD CONSTRAINT id_length\r\n",
                "CHECK (LENGTH(id) = 10);\r\n",
                "\r\n",
                "\r\n",
                "\r\n",
                "\r\n",
                "\r\n",
                "\r\n",
                "--Forign Keys\r\n",
                ""
            ],
            "metadata": {
                "language": "sql",
                "azdata_cell_guid": "4251712f-f733-4813-a0a8-2ae75bc130e7"
            },
            "outputs": [],
            "execution_count": null
        },
        {
            "cell_type": "code",
            "source": [
                "--functions"
            ],
            "metadata": {
                "azdata_cell_guid": "10dc05ec-4726-4c8c-8ba3-4280c6eaa96b",
                "language": "sql",
                "tags": []
            },
            "outputs": [],
            "execution_count": null
        },
        {
            "cell_type": "code",
            "source": [
                "--Sample Data\r\n",
                "\r\n",
                "INSERT INTO package (\r\n",
                "   id, width, length, height, weight, price, type, \r\n",
                "   insurance_id, shipment_id, estimated_distance,\r\n",
                "   estimated_time_from_dispatch, time_created, time_updated,\r\n",
                "   time_of_dispatch\r\n",
                ") VALUES (\r\n",
                "   12345678, 30, 40, 20, 500, 99.99, 1,\r\n",
                "   1, 1, 1000, 48,\r\n",
                "   NOW(), NOW(),\r\n",
                "   DATE_ADD(NOW(), INTERVAL 3 DAY)\r\n",
                ");"
            ],
            "metadata": {
                "language": "sql",
                "azdata_cell_guid": "2e5afe95-d6ad-4ed3-b5e9-16b45c2f5815",
                "tags": []
            },
            "outputs": [
                {
                    "output_type": "display_data",
                    "data": {
                        "text/html": "Commands completed successfully"
                    },
                    "metadata": {}
                },
                {
                    "output_type": "display_data",
                    "data": {
                        "text/html": "Total execution time: 00:00:00.003"
                    },
                    "metadata": {}
                }
            ],
            "execution_count": 8
        },
        {
            "cell_type": "code",
            "source": [
                "select * from package;"
            ],
            "metadata": {
                "azdata_cell_guid": "bd08861f-ddbe-4215-9e32-aff7ce28ccf8",
                "language": "sql"
            },
            "outputs": [
                {
                    "output_type": "display_data",
                    "data": {
                        "text/html": "(1 row(s) affected)"
                    },
                    "metadata": {}
                },
                {
                    "output_type": "display_data",
                    "data": {
                        "text/html": "Total execution time: 00:00:01.018"
                    },
                    "metadata": {}
                },
                {
                    "output_type": "execute_result",
                    "metadata": {},
                    "execution_count": 6,
                    "data": {
                        "application/vnd.dataresource+json": {
                            "schema": {
                                "fields": [
                                    {
                                        "name": "id"
                                    },
                                    {
                                        "name": "width"
                                    },
                                    {
                                        "name": "length"
                                    },
                                    {
                                        "name": "height"
                                    },
                                    {
                                        "name": "weight"
                                    },
                                    {
                                        "name": "price"
                                    },
                                    {
                                        "name": "type"
                                    },
                                    {
                                        "name": "insurance_id"
                                    },
                                    {
                                        "name": "shipment_id"
                                    },
                                    {
                                        "name": "estimated_distance"
                                    },
                                    {
                                        "name": "estimated_time_from_dispatch"
                                    },
                                    {
                                        "name": "time_created"
                                    },
                                    {
                                        "name": "time_updated"
                                    },
                                    {
                                        "name": "time_of_dispatch"
                                    },
                                    {
                                        "name": "time_of_delivery"
                                    }
                                ]
                            },
                            "data": [
                                {
                                    "id": "123456789",
                                    "width": "30",
                                    "length": "40",
                                    "height": "20",
                                    "weight": "500",
                                    "price": "99.99",
                                    "type": "1",
                                    "insurance_id": "1",
                                    "shipment_id": "1",
                                    "estimated_distance": "1000",
                                    "estimated_time_from_dispatch": "48",
                                    "time_created": "2024-11-29 12:49:18",
                                    "time_updated": "2024-11-29 12:49:18",
                                    "time_of_dispatch": "NULL",
                                    "time_of_delivery": "2024-12-02 12:49:18"
                                }
                            ]
                        },
                        "text/html": [
                            "<table>",
                            "<tr><th>id</th><th>width</th><th>length</th><th>height</th><th>weight</th><th>price</th><th>type</th><th>insurance_id</th><th>shipment_id</th><th>estimated_distance</th><th>estimated_time_from_dispatch</th><th>time_created</th><th>time_updated</th><th>time_of_dispatch</th><th>time_of_delivery</th></tr>",
                            "<tr><td>123456789</td><td>30</td><td>40</td><td>20</td><td>500</td><td>99.99</td><td>1</td><td>1</td><td>1</td><td>1000</td><td>48</td><td>2024-11-29 12:49:18</td><td>2024-11-29 12:49:18</td><td>NULL</td><td>2024-12-02 12:49:18</td></tr>",
                            "</table>"
                        ]
                    }
                }
            ],
            "execution_count": 6
        }
    ]
}