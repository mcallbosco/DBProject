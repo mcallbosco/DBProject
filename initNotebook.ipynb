{
    "metadata": {
        "kernelspec": {
            "name": "SQL",
            "display_name": "SQL",
            "language": "sql"
        },
        "language_info": {
            "name": "sql",
            "version": ""
        }
    },
    "nbformat_minor": 2,
    "nbformat": 4,
    "cells": [
        {
            "cell_type": "code",
            "source": [
                "-- Nuke database\n",
                "DROP DATABASE IF EXISTS shipping;\n",
                "CREATE DATABASE shipping;\n",
                "USE shipping;"
            ],
            "metadata": {
                "azdata_cell_guid": "374ae9bb-5934-4e02-bd7f-497dbd9f5e90",
                "language": "sql"
            },
            "outputs": [
                {
                    "output_type": "display_data",
                    "data": {
                        "text/html": "Commands completed successfully"
                    },
                    "metadata": {}
                },
                {
                    "output_type": "display_data",
                    "data": {
                        "text/html": "Commands completed successfully"
                    },
                    "metadata": {}
                },
                {
                    "output_type": "display_data",
                    "data": {
                        "text/html": "Commands completed successfully"
                    },
                    "metadata": {}
                },
                {
                    "output_type": "display_data",
                    "data": {
                        "text/html": "Total execution time: 00:00:05.355"
                    },
                    "metadata": {}
                }
            ],
            "execution_count": 25
        },
        {
            "cell_type": "code",
            "source": [
                "\n",
                "use shipping;\n",
                "\n",
                "\n",
                "Create Table destination_address (\n",
                "    id INT PRIMARY KEY,\n",
                "    country VARCHAR(2),\n",
                "    name_line VARCHAR(255),\n",
                "    first_name VARCHAR(50),\n",
                "    last_name VARCHAR(50),\n",
                "    organisation_name VARCHAR(255),\n",
                "    administrative_area VARCHAR(50),\n",
                "    sub_administrative_area VARCHAR(50),\n",
                "    locality VARCHAR(50),\n",
                "    dependent_locality VARCHAR(50),\n",
                "    postal_code VARCHAR(50),\n",
                "    thoroughfare VARCHAR(255),\n",
                "    premise VARCHAR(255),\n",
                "    sub_premise VARCHAR(255)\n",
                ");\n",
                "\n",
                "Create Table facilities (\n",
                "    id INT PRIMARY KEY,\n",
                "    name VARCHAR(50),\n",
                "    address_id INT,\n",
                "    type INT,\n",
                "    arrived_status_code INT,\n",
                "    departed_status_code INT,\n",
                "    FOREIGN KEY (address_id) REFERENCES destination_address(id) ON DELETE CASCADE\n",
                ");\n",
                "\n",
                "\n",
                "Create Table insurance_type(\n",
                "    id INT PRIMARY KEY,\n",
                "    name VARCHAR(50),\n",
                "    description VARCHAR(255),\n",
                "    min_coverage DECIMAL(10, 2),\n",
                "    max_coverage DECIMAL(10, 2),\n",
                "    cost_per500Miles DECIMAL(10, 2)\n",
                ");\n",
                "\n",
                "\n",
                "Create Table insurance (\n",
                "    id INT PRIMARY KEY,\n",
                "    type INT,\n",
                "    price DECIMAL(10, 2),\n",
                "    value_coverage DECIMAL(10, 2),\n",
                "    FOREIGN KEY (type) REFERENCES insurance_type(id) ON DELETE CASCADE\n",
                ");\n",
                "Create Table shipment_type (\n",
                "    id INT PRIMARY KEY,\n",
                "    name VARCHAR(50),\n",
                "    priority INT,\n",
                "    description VARCHAR(255),\n",
                "    days_per500Miles INT,\n",
                "    cost_per500Miles DECIMAL(10, 2)\n",
                ");\n",
                "\n",
                "\n",
                "\n",
                "\n",
                "CREATE TABLE package (\n",
                "    id INT PRIMARY KEY,\n",
                "    width INT,    -- In centimeters\n",
                "    length INT,     -- In centimeters\n",
                "    height INT,   -- In centimeters\n",
                "    weight INT,  -- In grams\n",
                "    price DECIMAL(10, 2),  -- In dollars\n",
                "    type INT,\n",
                "    insurance_id INT,\n",
                "    shipment_id INT,\n",
                "    estimated_distance INT,\n",
                "    estimated_time_from_dispatch INT,\n",
                "    time_created TIMESTAMP,\n",
                "    time_updated TIMESTAMP,\n",
                "    time_of_dispatch TIMESTAMP,\n",
                "    time_of_delivery TIMESTAMP,\n",
                "    delivery_cordinates_x DECIMAL(6,4),\n",
                "    delivery_cordinates_y DECIMAL(6,4),\n",
                "    delivery_conformation VARCHAR(255),\n",
                "    FOREIGN KEY (insurance_id) REFERENCES insurance(id) ON DELETE CASCADE, \n",
                "    -- MySQL can't just reference insurance, needs to be more specific.\n",
                "    FOREIGN KEY (shipment_id) REFERENCES shipment_type(id) ON DELETE CASCADE\n",
                ");\n",
                "\n",
                "\n",
                "CREATE TABLE accounts(\n",
                "    id INT PRIMARY KEY,\n",
                "    username VARCHAR(50),\n",
                "    roll VARCHAR(10),\n",
                "    facility_id INT,\n",
                "    FOREIGN KEY (facility_id) REFERENCES facilities(id) ON DELETE SET NULL\n",
                ");\n",
                "\n",
                "\n",
                "\n",
                "Create Table package_status (\n",
                "    id INT PRIMARY KEY AUTO_INCREMENT,\n",
                "    package_id INT, \n",
                "    status INT,\n",
                "    time_created TIMESTAMP,\n",
                "    location_x DECIMAL(6,4),\n",
                "    location_y DECIMAL(6,4),\n",
                "    location_name VARCHAR(255),\n",
                "    location_id INT,\n",
                "    FOREIGN KEY (package_id) REFERENCES package(id) ON DELETE CASCADE,\n",
                "    FOREIGN KEY (location_id) REFERENCES facilities(id) ON DELETE SET NULL\n",
                "    \n",
                ");\n",
                "\n",
                "Create Table ready_for_assignment (\n",
                "    id INT PRIMARY KEY AUTO_INCREMENT,\n",
                "    package_id INT,\n",
                "    time_created TIMESTAMP,\n",
                "    location INT, --facility_id\n",
                "    FOREIGN KEY (package_id) REFERENCES package(id) ON DELETE CASCADE,\n",
                "    FOREIGN KEY (location) REFERENCES facilities(id) ON DELETE SET NULL\n",
                ");\n",
                "\n",
                "\n",
                "Create Table status_info (\n",
                "    id INT PRIMARY KEY,\n",
                "    name VARCHAR(50),\n",
                "    description VARCHAR(255),\n",
                "    progress_bar_percentage INT,\n",
                "    tense_name VARCHAR(50)\n",
                ");\n",
                "\n",
                "Create Table package_assignment (\n",
                "    id INT PRIMARY KEY AUTO_INCREMENT,\n",
                "    package_id INT,\n",
                "    driver_id INT,\n",
                "    status INT, -- 0 for not ready, 1 for ready, 2 for dispatched, 3 for completed\n",
                "    time_assigned TIMESTAMP,\n",
                "    time_dispatched TIMESTAMP,\n",
                "    time_completed TIMESTAMP,\n",
                "    to_address BIT, -- 1 if destination, 0 if other\n",
                "    from_facility_id INT,\n",
                "    to_facility_id INT,\n",
                "    FOREIGN KEY (package_id) REFERENCES package(id) ON DELETE CASCADE,\n",
                "    FOREIGN KEY (driver_id) REFERENCES accounts(id) ON DELETE CASCADE,\n",
                "    FOREIGN KEY (from_facility_id) REFERENCES facilities(id) ON DELETE CASCADE,\n",
                "    FOREIGN KEY (to_facility_id) REFERENCES facilities(id) ON DELETE CASCADE\n",
                ");"
            ],
            "metadata": {
                "azdata_cell_guid": "d94ac79f-e3d5-40e7-8e4f-ba23b921f44c",
                "language": "sql"
            },
            "outputs": [
                {
                    "output_type": "display_data",
                    "data": {
                        "text/html": "Commands completed successfully"
                    },
                    "metadata": {}
                },
                {
                    "output_type": "display_data",
                    "data": {
                        "text/html": "Commands completed successfully"
                    },
                    "metadata": {}
                },
                {
                    "output_type": "display_data",
                    "data": {
                        "text/html": "Commands completed successfully"
                    },
                    "metadata": {}
                },
                {
                    "output_type": "display_data",
                    "data": {
                        "text/html": "Commands completed successfully"
                    },
                    "metadata": {}
                },
                {
                    "output_type": "display_data",
                    "data": {
                        "text/html": "Commands completed successfully"
                    },
                    "metadata": {}
                },
                {
                    "output_type": "display_data",
                    "data": {
                        "text/html": "Commands completed successfully"
                    },
                    "metadata": {}
                },
                {
                    "output_type": "display_data",
                    "data": {
                        "text/html": "Commands completed successfully"
                    },
                    "metadata": {}
                },
                {
                    "output_type": "display_data",
                    "data": {
                        "text/html": "Commands completed successfully"
                    },
                    "metadata": {}
                },
                {
                    "output_type": "display_data",
                    "data": {
                        "text/html": "Commands completed successfully"
                    },
                    "metadata": {}
                },
                {
                    "output_type": "display_data",
                    "data": {
                        "text/html": "Commands completed successfully"
                    },
                    "metadata": {}
                },
                {
                    "output_type": "display_data",
                    "data": {
                        "text/html": "Commands completed successfully"
                    },
                    "metadata": {}
                },
                {
                    "output_type": "display_data",
                    "data": {
                        "text/html": "Commands completed successfully"
                    },
                    "metadata": {}
                },
                {
                    "output_type": "display_data",
                    "data": {
                        "text/html": "Total execution time: 00:00:00.365"
                    },
                    "metadata": {}
                }
            ],
            "execution_count": 26
        },
        {
            "cell_type": "code",
            "source": [
                "INSERT INTO package(id) VALUES(1000000000);\n",
                "--Insurance codes\n",
                "INSERT INTO insurance_type (id, name, description, min_coverage, max_coverage, cost_per500Miles)\n",
                "VALUES \n",
                "(1, 'Basic Parcel', 'Standard coverage for low-value domestic shipments', 100.00, 1000.00, 0.05),\n",
                "\n",
                "(2, 'Premium Parcel', 'Enhanced coverage for valuable domestic shipments', 1000.01, 5000.00, 0.06),\n",
                "\n",
                "(3, 'Perishable Goods', 'Coverage for temperature-sensitive and perishable items', 500.00, 10000.00, 0.09);\n",
                "\n",
                "\n",
                "INSERT INTO status_info (id, name, tense_name, description, progress_bar_percentage) VALUES\n",
                "-- Initial States\n",
                "(1, 'Scanned', 'has been scanned', 'Package has been scanned into the system but not yet dispatched', 10),\n",
                "(2, 'Dispatched', 'is being dispatched', 'Package has been dispatched for delivery', 15),\n",
                "(3, 'In Transit', 'is in transit', 'Package is in transit between facilities', 25),\n",
                "(4, 'Processing', 'is being processed', 'Package is being processed at a facility', NULL),\n",
                "(5, 'Delivered', 'has been delivered', 'Package has been successfully delivered to its destination', 100),\n",
                "(6, 'Lost', 'has been lost', 'Package has been reported as lost', 0),\n",
                "(7, 'Damaged', 'has been damaged', 'Package has been reported as damaged', 0),\n",
                "(8, 'Returned', 'is being returned', 'Package is being returned to sender', 0),\n",
                "(9, 'Cancelled', 'has been cancelled', 'Delivery has been cancelled', 0),\n",
                "(10, 'On Hold', 'is on hold', 'Package delivery is temporarily on hold', 0),\n",
                "(11, 'Out for Delivery', 'is out for delivery', 'Package is out for final delivery', 90),\n",
                "(12, 'reserved', 'reserved', 'reserved', 0),\n",
                "(13, 'reserved', 'reserved', 'reserved', 0),\n",
                "(14, 'reserved', 'reserved', 'reserved', 0),\n",
                "(15, 'reserved', 'reserved', 'reserved', 0),\n",
                "(16, 'reserved', 'reserved', 'reserved', 0),\n",
                "(17, 'reserved', 'reserved', 'reserved', 0),\n",
                "(18, 'reserved', 'reserved', 'reserved', 0),\n",
                "(19, 'reserved', 'reserved', 'reserved', 0),\n",
                "\n",
                "\n",
                "-- Facility Status Codes\n",
                "(20, 'Arrived at Facility', 'has arrived at facility', 'Package has arrived at a general facility', NULL),\n",
                "(21, 'Departed from Facility', 'has departed from facility', 'Package has departed from a general facility', NULL),\n",
                "(22, 'Arrived at Local Facility', 'has arrived at local facility', 'Package has arrived at a local facility', NULL),\n",
                "(23, 'Departed from Local Facility', 'has departed from local facility', 'Package has departed from local facility', NULL);\n",
                "\n",
                "\n",
                "INSERT INTO destination_address (\n",
                "    id,\n",
                "    country,\n",
                "    name_line,\n",
                "    first_name,\n",
                "    last_name,\n",
                "    organisation_name,\n",
                "    administrative_area,\n",
                "    locality,\n",
                "    postal_code,\n",
                "    thoroughfare,\n",
                "    premise\n",
                ") VALUES \n",
                "    (0, 'US', 'John Doe', 'John', 'Doe', 'Doe Inc.', 'CA', 'Santa Clara', '95050', '123 Main St.', 'Apt 1'),    -- Default address\n",
                "    (101, 'US', 'Chicago Distribution Center', 'Chicago', 'Distribution Center', 'Chicago DC Inc.', 'IL', 'Chicago', '60601', '123 Main St.', 'Suite 100'),\n",
                "    (102, 'US', 'LA Port Facility', 'LA', 'Port Facility', 'LA Port Inc.', 'CA', 'Los Angeles', '90001', '456 Harbor Blvd.', 'Dock 2'),\n",
                "    (103, 'US', 'NYC Distribution Hub', 'NYC', 'Distribution Hub', 'NYC Hub Inc.', 'NY', 'New York', '10001', '789 Broadway', 'Floor 3'),\n",
                "    (104, 'US', 'Dallas Sorting Center', 'Dallas', 'Sorting Center', 'Dallas Sorting Inc.', 'TX', 'Dallas', '75201', '321 Elm St.', 'Building 4'),\n",
                "    (105, 'US', 'Miami International Hub', 'Miami', 'International Hub', 'Miami Hub Inc.', 'FL', 'Miami', '33101', '987 Ocean Dr.', 'Terminal 5'),\n",
                "    (106, 'US', 'Seattle Port Center', 'Seattle', 'Port Center', 'Seattle Port Inc.', 'WA', 'Seattle', '98101', '654 Harbor Ave.', 'Pier 7'),\n",
                "    (107, 'US', 'Denver Local Hub', 'Denver', 'Local Hub', 'Denver Hub Inc.', 'CO', 'Denver', '80201', '741 Main St.', 'Suite 200'),\n",
                "    (108, 'US', 'Atlanta Distribution Center', 'Atlanta', 'Distribution Center', 'Atlanta DC Inc.', 'GA', 'Atlanta', '30301', '852 Peachtree St.', 'Building 3'),\n",
                "    (109, 'US', 'Boston Local Center', 'Boston', 'Local Center', 'Boston Center Inc.', 'MA', 'Boston', '02101', '369 Beacon St.', 'Floor 2'),\n",
                "    (110, 'US', 'Phoenix Sorting Facility', 'Phoenix', 'Sorting Facility', 'Phoenix Sorting Inc.', 'AZ', 'Phoenix', '85001', '456 Desert Rd.', 'Unit 1');\n",
                "\n",
                "\n",
                "INSERT INTO facilities (\n",
                "    id,\n",
                "    name,\n",
                "    address_id,\n",
                "    type,\n",
                "    arrived_status_code,\n",
                "    departed_status_code\n",
                ") VALUES \n",
                "    (0, 'Address' , 0, 0,5,5),\n",
                "    (1, 'Chicago Distribution Center', 101, 1, 20, 21),\n",
                "    (2, 'LA Port Facility', 102, 2, 20, 21),\n",
                "    (3, 'NYC Distribution Hub', 103, 1, 20, 21),\n",
                "    (4, 'Dallas Sorting Center', 104, 4, 20, 21),\n",
                "    (5, 'Miami International Hub', 105, 5, 20, 21),\n",
                "    (6, 'Seattle Port Center', 106, 2, 20, 21),\n",
                "    (7, 'Denver Local Hub', 107, 3, 22, 23),\n",
                "    (8, 'Atlanta Distribution Center', 108, 1, 20, 21),\n",
                "    (9, 'Boston Local Center', 109, 3, 20, 21),\n",
                "    (10, 'Phoenix Sorting Facility', 110, 4, 20, 21);\n",
                "\n",
                "\n",
                "\n",
                "\n",
                "INSERT INTO accounts (id, username, roll, facility_id) VALUES\n",
                "(1, 'driver1', 'Driver', 1),\n",
                "(2, 'driver2', 'Driver', 1),\n",
                "(3, 'driver3', 'Driver', 1),\n",
                "(4, 'driver4', 'Driver', 2),\n",
                "(5, 'driver5', 'Driver', 2),\n",
                "(6, 'driver6', 'Driver', 2),\n",
                "(7, 'driver7', 'Driver', 3),\n",
                "(8, 'driver8', 'Driver', 3),\n",
                "(9, 'driver9', 'Driver', 9),\n",
                "(10, 'driver10', 'Driver', 10),\n",
                "(11, 'clerk1', 'Clerk', 1),\n",
                "(12, \"manager1\", \"Manager\", 1),\n",
                "(13, \"manager2\", \"Manager\", 2);\n",
                "\n",
                "\n",
                "\n",
                "INSERT INTO shipment_type(\n",
                "    id,\n",
                "    name,\n",
                "    priority,\n",
                "    description,\n",
                "    days_per500Miles,\n",
                "    cost_per500Miles\n",
                ") VALUES\n",
                "(1, 'Standard', 1, 'Standard delivery service', 2, 1),\n",
                "(2, 'Express', 2, 'Express delivery service', 1, 2),\n",
                "(3, 'Overnight', 3, 'Overnight delivery service', 0, 3);\n",
                "\n",
                "\n",
                "\n",
                "\n",
                "INSERT INTO package_status (package_id, status, time_created, location_x, location_y, location_name, location_id) VALUES\n",
                "(1, 1, '2024-11-30 09:15:00', 41.8781, -87.6298, 'Chicago Distribution Center', 1),\n",
                "(1, 9, '2024-11-30 09:30:00', 41.8781, -87.6298, 'Chicago Distribution Center', 1);\n",
                "\n",
                "-- Package 2: In transit since yesterday, showing movement between facilities\n",
                "INSERT INTO package_status (package_id, status, time_created, location_x, location_y, location_name, location_id) VALUES\n",
                "(2, 1, '2024-11-29 10:00:00', 41.8781, -87.6298, 'Chicago Distribution Center', 1),\n",
                "(2, 10, '2024-11-29 10:30:00', 41.8781, -87.6298, 'Chicago Distribution Center', 1),\n",
                "(2, 11, '2024-11-29 11:00:00', 41.8781, -87.6298, 'Chicago Distribution Center', 1),\n",
                "(2, 11, '2024-11-29 18:00:00', 40.7128, -74.0060, 'NYC Distribution Hub', 3),\n",
                "(2, 11, '2024-11-30 06:00:00', 40.7128, -74.0060, 'NYC Distribution Hub', 3),\n",
                "(2, 22, '2024-11-30 09:00:00', 40.8000, -73.9500, 'In Transit', 0);\n",
                "\n",
                "-- Package 3: Large item being processed\n",
                "INSERT INTO package_status (package_id, status, time_created, location_x, location_y, location_name, location_id) VALUES\n",
                "(3, 1, '2024-11-30 08:30:00', 41.8781, -87.6298, 'Chicago Distribution Center', 1),\n",
                "(3, 9, '2024-11-30 09:00:00', 41.8781, -87.6298, 'Chicago Distribution Center', 1);\n",
                "\n",
                "-- Insert sample insurance policies aligned with the insurance types\n",
                "INSERT INTO insurance (id, type, price, value_coverage) VALUES\n",
                "-- Basic Parcel Insurance Policies\n",
                "(1, 1, 7.50, 150.00),    -- Basic coverage for Package 1 ($149.99)\n",
                "(2, 1, 4.00, 80.00),     -- Basic coverage for Package 2 ($79.99)\n",
                "(3, 2, 54.00, 900.00);\n",
                "\n",
                "\n",
                "\n",
                "INSERT INTO package_assignment (id, package_id, driver_id, time_assigned, time_dispatched, time_completed, to_address, from_facility_id, to_facility_id, status) VALUES (1, 1, 1, '2020-01-01 00:00:00', '2020-01-01 00:00:00', '2020-01-01 00:00:00', 1, 1, 0, 1), (2, 2, 1, '2020-01-01 00:00:00', '2020-01-01 00:00:00', '2020-01-01 00:00:00', 0, 1, 2, 1), (3, 3, 1, '2020-01-01 00:00:00', '2020-01-01 00:00:00', '2020-01-01 00:00:00', 1, 1, 1, 1);\n",
                "INSERT INTO destination_address (id, country, name_line, first_name, last_name, organisation_name, administrative_area, sub_administrative_area, locality, dependent_locality, postal_code, thoroughfare, premise, sub_premise) VALUES (1, 'US', 'John Doe', 'John', 'Doe', 'Doe Inc.', 'CA', 'Santa Clara', 'Santa Clara', 'Santa Clara', '95050', '123 Main St.', 'Apt 1', '1'), (2, 'US', 'Jane Doe', 'Jane', 'Doe', 'Doe Inc.', 'CA', 'Santa Clara', 'Santa Clara', 'Santa Clara', '95050', '123 Main St.', 'Apt 2', '2'), (3, 'US', 'John Smith', 'John', 'Smith', 'Smith Inc.', 'CA', 'Santa Clara', 'Santa Clara', 'Santa Clara', '95050', '123 Main St.', 'Apt 3', '3');\n",
                "INSERT INTO package (\n",
                "    id, \n",
                "    width, \n",
                "    length, \n",
                "    height, \n",
                "    weight, \n",
                "    price, \n",
                "    type, \n",
                "    insurance_id, \n",
                "    shipment_id, \n",
                "    estimated_distance, \n",
                "    estimated_time_from_dispatch,\n",
                "    time_created,\n",
                "    time_updated,\n",
                "    time_of_dispatch,\n",
                "    time_of_delivery,\n",
                "    delivery_cordinates_x,\n",
                "    delivery_cordinates_y,\n",
                "    delivery_conformation\n",
                ") VALUES \n",
                "-- Package 1: Just created, not yet dispatched\n",
                "(1, 30, 40, 25, 2500, 149.99, 1, 1, 1, 750, 48, \n",
                " '2024-11-30 09:15:00', '2024-11-30 09:15:00', NULL, NULL,\n",
                " NULL, NULL, NULL),\n",
                "\n",
                "-- Package 2: In transit (dispatched but not delivered)\n",
                "(2, 15, 20, 10, 500, 79.99, 2, 2, 2, 250, 24,\n",
                " '2024-11-29 10:00:00', '2024-11-30 09:00:00', '2024-11-29 11:00:00', NULL,\n",
                " NULL, NULL, NULL),\n",
                "\n",
                "-- Package 3: Large item, processed but waiting for dispatch\n",
                "(3, 100, 120, 80, 15000, 899.99, 1, 3, 1, 1200, 72,\n",
                " '2024-11-30 08:30:00', '2024-11-30 10:30:00', NULL, NULL,\n",
                " NULL, NULL, NULL);\n",
                "\n",
                " INSERT INTO package_status (id, package_id, status, time_created, location_x, location_y) VALUES \n",
                "(50, 1, 1, NOW(), 42.4401, -79.3317);\n",
                "\n",
                "\n",
                "INSERT INTO package (\n",
                "   id, width, length, height, weight, price, type, \n",
                "   insurance_id, shipment_id, estimated_distance,\n",
                "   estimated_time_from_dispatch, time_created, time_updated,\n",
                "   time_of_dispatch, time_of_delivery, delivery_cordinates_x, delivery_cordinates_y,\n",
                "   delivery_conformation\n",
                ") VALUES (\n",
                "   1234567, 30, 40, 20, 500, 99.99, 1,\n",
                "   1, 1, 1000, 48,\n",
                "   NOW(), NOW(),DATE_ADD(NOW(), INTERVAL 1 DAY),\n",
                "   DATE_ADD(NOW(), INTERVAL 3 DAY), 42.4401, -79.3317, \"Left At Front Door\"\n",
                ");\n",
                ""
            ],
            "metadata": {
                "azdata_cell_guid": "d0cbaabf-c44e-41eb-b379-761ba6275e32",
                "language": "sql",
                "tags": []
            },
            "outputs": [
                {
                    "output_type": "display_data",
                    "data": {
                        "text/html": "Commands completed successfully"
                    },
                    "metadata": {}
                },
                {
                    "output_type": "display_data",
                    "data": {
                        "text/html": "Commands completed successfully"
                    },
                    "metadata": {}
                },
                {
                    "output_type": "display_data",
                    "data": {
                        "text/html": "Commands completed successfully"
                    },
                    "metadata": {}
                },
                {
                    "output_type": "display_data",
                    "data": {
                        "text/html": "Commands completed successfully"
                    },
                    "metadata": {}
                },
                {
                    "output_type": "display_data",
                    "data": {
                        "text/html": "Commands completed successfully"
                    },
                    "metadata": {}
                },
                {
                    "output_type": "display_data",
                    "data": {
                        "text/html": "Commands completed successfully"
                    },
                    "metadata": {}
                },
                {
                    "output_type": "display_data",
                    "data": {
                        "text/html": "Commands completed successfully"
                    },
                    "metadata": {}
                },
                {
                    "output_type": "display_data",
                    "data": {
                        "text/html": "Total execution time: 00:00:00.043"
                    },
                    "metadata": {}
                },
                {
                    "output_type": "error",
                    "evalue": "1452 (23000): Cannot add or update a child row: a foreign key constraint fails (`shipping`.`package_status`, CONSTRAINT `package_status_ibfk_1` FOREIGN KEY (`package_id`) REFERENCES `package` (`id`) ON DELETE CASCADE)",
                    "ename": "",
                    "traceback": []
                }
            ],
            "execution_count": 27
        },
        {
            "cell_type": "code",
            "source": [
                "-- Constraint Creation\n",
                "-- id must be a 10 digit number\n",
                "ALTER TABLE package\n",
                "ADD CONSTRAINT id_length\n",
                "CHECK (LENGTH(id) = 10);\n",
                "\n",
                "--make id auto increment in package_status\n",
                "ALTER TABLE package_status MODIFY id INT AUTO_INCREMENT;\n",
                "\n"
            ],
            "metadata": {
                "azdata_cell_guid": "4251712f-f733-4813-a0a8-2ae75bc130e7",
                "language": "sql"
            },
            "outputs": [
                {
                    "output_type": "error",
                    "ename": "",
                    "evalue": "1452 (23000): Cannot add or update a child row: a foreign key constraint fails (`shipping`.`package_status`, CONSTRAINT `package_status_ibfk_1` FOREIGN KEY (`package_id`) REFERENCES `package` (`id`) ON DELETE CASCADE)",
                    "traceback": []
                },
                {
                    "output_type": "display_data",
                    "data": {
                        "text/html": "Commands completed successfully"
                    },
                    "metadata": {}
                },
                {
                    "output_type": "display_data",
                    "data": {
                        "text/html": "Commands completed successfully"
                    },
                    "metadata": {}
                },
                {
                    "output_type": "display_data",
                    "data": {
                        "text/html": "Total execution time: 00:00:00.107"
                    },
                    "metadata": {}
                }
            ],
            "execution_count": 14
        },
        {
            "cell_type": "code",
            "source": [
                "select * from package;\n",
                "select * from package;\n",
                "INSERT INTO package (\n",
                "   id, width, length, height, weight, price, type, \n",
                "    shipment_id, estimated_distance,\n",
                "   estimated_time_from_dispatch, time_created, time_updated,\n",
                "   time_of_dispatch, delivery_cordinates_x, delivery_cordinates_y,\n",
                "   delivery_conformation\n",
                ") VALUES (\n",
                "   1, 30, 40, 20, 500, 99.99, 1,\n",
                "    1, 1000, 48,\n",
                "   NOW(), NOW(),\n",
                "   DATE_ADD(NOW(), INTERVAL 3 DAY), 42.4401, -79.3317, \"Left At Front Door\"\n",
                ");\n",
                "INSERT INTO package (\n",
                "   id, width, length, height, weight, price, type, \n",
                "    shipment_id, estimated_distance,\n",
                "   estimated_time_from_dispatch, time_created, time_updated,\n",
                "   time_of_dispatch, time_of_delivery, delivery_cordinates_x, delivery_cordinates_y,\n",
                "   delivery_conformation\n",
                ") VALUES (\n",
                "   1234567, 30, 40, 20, 500, 99.99, 1,\n",
                "    1, 1000, 48,\n",
                "   NOW(), NOW(),DATE_ADD(NOW(), INTERVAL 1 DAY),\n",
                "   DATE_ADD(NOW(), INTERVAL 3 DAY), 42.4401, -79.3317, \"Left At Front Door\"\n",
                ");\n",
                "INSERT INTO package (\n",
                "   id, width, length, height, weight, price, type, \n",
                "    shipment_id, estimated_distance,\n",
                "   estimated_time_from_dispatch, time_created, time_updated,\n",
                "   time_of_dispatch, time_of_delivery, delivery_cordinates_x, delivery_cordinates_y,\n",
                "   delivery_conformation\n",
                ") VALUES (\n",
                "   123456, 30, 40, 20, 500, 99.99, 1,\n",
                "    1, 1000, 48,\n",
                "   NOW(), NOW(),DATE_ADD(NOW(), INTERVAL 1 DAY),\n",
                "   DATE_ADD(NOW(), INTERVAL 3 DAY), 42.4401, -79.3317, \"Left At Front Door\"\n",
                ");"
            ],
            "metadata": {
                "azdata_cell_guid": "bd08861f-ddbe-4215-9e32-aff7ce28ccf8",
                "language": "sql"
            },
            "outputs": [
                {
                    "output_type": "display_data",
                    "data": {
                        "text/html": "(3 row(s) affected)"
                    },
                    "metadata": {}
                },
                {
                    "output_type": "display_data",
                    "data": {
                        "text/html": "(3 row(s) affected)"
                    },
                    "metadata": {}
                },
                {
                    "output_type": "display_data",
                    "data": {
                        "text/html": "Total execution time: 00:00:02.011"
                    },
                    "metadata": {}
                },
                {
                    "output_type": "execute_result",
                    "execution_count": 6,
                    "data": {
                        "application/vnd.dataresource+json": {
                            "data": [
                                {
                                    "delivery_conformation": "NULL",
                                    "delivery_cordinates_x": "NULL",
                                    "delivery_cordinates_y": "NULL",
                                    "estimated_distance": "750",
                                    "estimated_time_from_dispatch": "48",
                                    "height": "25",
                                    "id": "1",
                                    "insurance_id": "1",
                                    "length": "40",
                                    "price": "149.99",
                                    "shipment_id": "1",
                                    "time_created": "2024-11-30 09:15:00",
                                    "time_of_delivery": "NULL",
                                    "time_of_dispatch": "NULL",
                                    "time_updated": "2024-11-30 09:15:00",
                                    "type": "1",
                                    "weight": "2500",
                                    "width": "30"
                                },
                                {
                                    "delivery_conformation": "NULL",
                                    "delivery_cordinates_x": "NULL",
                                    "delivery_cordinates_y": "NULL",
                                    "estimated_distance": "250",
                                    "estimated_time_from_dispatch": "24",
                                    "height": "10",
                                    "id": "2",
                                    "insurance_id": "2",
                                    "length": "20",
                                    "price": "79.99",
                                    "shipment_id": "2",
                                    "time_created": "2024-11-29 10:00:00",
                                    "time_of_delivery": "NULL",
                                    "time_of_dispatch": "2024-11-29 11:00:00",
                                    "time_updated": "2024-11-30 09:00:00",
                                    "type": "2",
                                    "weight": "500",
                                    "width": "15"
                                },
                                {
                                    "delivery_conformation": "NULL",
                                    "delivery_cordinates_x": "NULL",
                                    "delivery_cordinates_y": "NULL",
                                    "estimated_distance": "1200",
                                    "estimated_time_from_dispatch": "72",
                                    "height": "80",
                                    "id": "3",
                                    "insurance_id": "3",
                                    "length": "120",
                                    "price": "899.99",
                                    "shipment_id": "1",
                                    "time_created": "2024-11-30 08:30:00",
                                    "time_of_delivery": "NULL",
                                    "time_of_dispatch": "NULL",
                                    "time_updated": "2024-11-30 10:30:00",
                                    "type": "1",
                                    "weight": "15000",
                                    "width": "100"
                                }
                            ],
                            "schema": {
                                "fields": [
                                    {
                                        "name": "id"
                                    },
                                    {
                                        "name": "width"
                                    },
                                    {
                                        "name": "length"
                                    },
                                    {
                                        "name": "height"
                                    },
                                    {
                                        "name": "weight"
                                    },
                                    {
                                        "name": "price"
                                    },
                                    {
                                        "name": "type"
                                    },
                                    {
                                        "name": "insurance_id"
                                    },
                                    {
                                        "name": "shipment_id"
                                    },
                                    {
                                        "name": "estimated_distance"
                                    },
                                    {
                                        "name": "estimated_time_from_dispatch"
                                    },
                                    {
                                        "name": "time_created"
                                    },
                                    {
                                        "name": "time_updated"
                                    },
                                    {
                                        "name": "time_of_dispatch"
                                    },
                                    {
                                        "name": "time_of_delivery"
                                    },
                                    {
                                        "name": "delivery_cordinates_x"
                                    },
                                    {
                                        "name": "delivery_cordinates_y"
                                    },
                                    {
                                        "name": "delivery_conformation"
                                    }
                                ]
                            }
                        },
                        "text/html": "<table><tr><th>id</th><th>width</th><th>length</th><th>height</th><th>weight</th><th>price</th><th>type</th><th>insurance_id</th><th>shipment_id</th><th>estimated_distance</th><th>estimated_time_from_dispatch</th><th>time_created</th><th>time_updated</th><th>time_of_dispatch</th><th>time_of_delivery</th><th>delivery_cordinates_x</th><th>delivery_cordinates_y</th><th>delivery_conformation</th></tr><tr><td>1</td><td>30</td><td>40</td><td>25</td><td>2500</td><td>149.99</td><td>1</td><td>1</td><td>1</td><td>750</td><td>48</td><td>2024-11-30 09:15:00</td><td>2024-11-30 09:15:00</td><td>NULL</td><td>NULL</td><td>NULL</td><td>NULL</td><td>NULL</td></tr><tr><td>2</td><td>15</td><td>20</td><td>10</td><td>500</td><td>79.99</td><td>2</td><td>2</td><td>2</td><td>250</td><td>24</td><td>2024-11-29 10:00:00</td><td>2024-11-30 09:00:00</td><td>2024-11-29 11:00:00</td><td>NULL</td><td>NULL</td><td>NULL</td><td>NULL</td></tr><tr><td>3</td><td>100</td><td>120</td><td>80</td><td>15000</td><td>899.99</td><td>1</td><td>3</td><td>1</td><td>1200</td><td>72</td><td>2024-11-30 08:30:00</td><td>2024-11-30 10:30:00</td><td>NULL</td><td>NULL</td><td>NULL</td><td>NULL</td><td>NULL</td></tr></table>"
                    },
                    "metadata": {}
                },
                {
                    "output_type": "execute_result",
                    "execution_count": 6,
                    "data": {
                        "application/vnd.dataresource+json": {
                            "data": [
                                {
                                    "delivery_conformation": "NULL",
                                    "delivery_cordinates_x": "NULL",
                                    "delivery_cordinates_y": "NULL",
                                    "estimated_distance": "750",
                                    "estimated_time_from_dispatch": "48",
                                    "height": "25",
                                    "id": "1",
                                    "insurance_id": "1",
                                    "length": "40",
                                    "price": "149.99",
                                    "shipment_id": "1",
                                    "time_created": "2024-11-30 09:15:00",
                                    "time_of_delivery": "NULL",
                                    "time_of_dispatch": "NULL",
                                    "time_updated": "2024-11-30 09:15:00",
                                    "type": "1",
                                    "weight": "2500",
                                    "width": "30"
                                },
                                {
                                    "delivery_conformation": "NULL",
                                    "delivery_cordinates_x": "NULL",
                                    "delivery_cordinates_y": "NULL",
                                    "estimated_distance": "250",
                                    "estimated_time_from_dispatch": "24",
                                    "height": "10",
                                    "id": "2",
                                    "insurance_id": "2",
                                    "length": "20",
                                    "price": "79.99",
                                    "shipment_id": "2",
                                    "time_created": "2024-11-29 10:00:00",
                                    "time_of_delivery": "NULL",
                                    "time_of_dispatch": "2024-11-29 11:00:00",
                                    "time_updated": "2024-11-30 09:00:00",
                                    "type": "2",
                                    "weight": "500",
                                    "width": "15"
                                },
                                {
                                    "delivery_conformation": "NULL",
                                    "delivery_cordinates_x": "NULL",
                                    "delivery_cordinates_y": "NULL",
                                    "estimated_distance": "1200",
                                    "estimated_time_from_dispatch": "72",
                                    "height": "80",
                                    "id": "3",
                                    "insurance_id": "3",
                                    "length": "120",
                                    "price": "899.99",
                                    "shipment_id": "1",
                                    "time_created": "2024-11-30 08:30:00",
                                    "time_of_delivery": "NULL",
                                    "time_of_dispatch": "NULL",
                                    "time_updated": "2024-11-30 10:30:00",
                                    "type": "1",
                                    "weight": "15000",
                                    "width": "100"
                                }
                            ],
                            "schema": {
                                "fields": [
                                    {
                                        "name": "id"
                                    },
                                    {
                                        "name": "width"
                                    },
                                    {
                                        "name": "length"
                                    },
                                    {
                                        "name": "height"
                                    },
                                    {
                                        "name": "weight"
                                    },
                                    {
                                        "name": "price"
                                    },
                                    {
                                        "name": "type"
                                    },
                                    {
                                        "name": "insurance_id"
                                    },
                                    {
                                        "name": "shipment_id"
                                    },
                                    {
                                        "name": "estimated_distance"
                                    },
                                    {
                                        "name": "estimated_time_from_dispatch"
                                    },
                                    {
                                        "name": "time_created"
                                    },
                                    {
                                        "name": "time_updated"
                                    },
                                    {
                                        "name": "time_of_dispatch"
                                    },
                                    {
                                        "name": "time_of_delivery"
                                    },
                                    {
                                        "name": "delivery_cordinates_x"
                                    },
                                    {
                                        "name": "delivery_cordinates_y"
                                    },
                                    {
                                        "name": "delivery_conformation"
                                    }
                                ]
                            }
                        },
                        "text/html": "<table><tr><th>id</th><th>width</th><th>length</th><th>height</th><th>weight</th><th>price</th><th>type</th><th>insurance_id</th><th>shipment_id</th><th>estimated_distance</th><th>estimated_time_from_dispatch</th><th>time_created</th><th>time_updated</th><th>time_of_dispatch</th><th>time_of_delivery</th><th>delivery_cordinates_x</th><th>delivery_cordinates_y</th><th>delivery_conformation</th></tr><tr><td>1</td><td>30</td><td>40</td><td>25</td><td>2500</td><td>149.99</td><td>1</td><td>1</td><td>1</td><td>750</td><td>48</td><td>2024-11-30 09:15:00</td><td>2024-11-30 09:15:00</td><td>NULL</td><td>NULL</td><td>NULL</td><td>NULL</td><td>NULL</td></tr><tr><td>2</td><td>15</td><td>20</td><td>10</td><td>500</td><td>79.99</td><td>2</td><td>2</td><td>2</td><td>250</td><td>24</td><td>2024-11-29 10:00:00</td><td>2024-11-30 09:00:00</td><td>2024-11-29 11:00:00</td><td>NULL</td><td>NULL</td><td>NULL</td><td>NULL</td></tr><tr><td>3</td><td>100</td><td>120</td><td>80</td><td>15000</td><td>899.99</td><td>1</td><td>3</td><td>1</td><td>1200</td><td>72</td><td>2024-11-30 08:30:00</td><td>2024-11-30 10:30:00</td><td>NULL</td><td>NULL</td><td>NULL</td><td>NULL</td><td>NULL</td></tr></table>"
                    },
                    "metadata": {}
                },
                {
                    "output_type": "error",
                    "ename": "",
                    "evalue": "1062 (23000): Duplicate entry '1' for key 'package.PRIMARY'",
                    "traceback": []
                }
            ],
            "execution_count": 6
        }
    ]
}