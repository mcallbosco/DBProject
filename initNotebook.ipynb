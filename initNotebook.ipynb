{
    "metadata": {
        "kernelspec": {
            "name": "SQL",
            "display_name": "SQL",
            "language": "sql"
        },
        "language_info": {
            "name": "sql",
            "version": ""
        }
    },
    "nbformat_minor": 2,
    "nbformat": 4,
    "cells": [
        {
            "cell_type": "code",
            "source": [
                "-- Nuke database\r\n",
                "DROP DATABASE IF EXISTS shipping;\r\n",
                "CREATE DATABASE shipping;\r\n",
                "USE shipping;"
            ],
            "metadata": {
                "azdata_cell_guid": "374ae9bb-5934-4e02-bd7f-497dbd9f5e90",
                "language": "sql"
            },
            "outputs": [
                {
                    "output_type": "display_data",
                    "data": {
                        "text/html": "Commands completed successfully"
                    },
                    "metadata": {}
                },
                {
                    "output_type": "display_data",
                    "data": {
                        "text/html": "Commands completed successfully"
                    },
                    "metadata": {}
                },
                {
                    "output_type": "display_data",
                    "data": {
                        "text/html": "Commands completed successfully"
                    },
                    "metadata": {}
                },
                {
                    "output_type": "display_data",
                    "data": {
                        "text/html": "Total execution time: 00:00:00.034"
                    },
                    "metadata": {}
                }
            ],
            "execution_count": 66
        },
        {
            "cell_type": "code",
            "source": [
                "-- This is mysql\r\n",
                "-- new table package. make key id, width, lendth, height, weight, price, insurance_id, shipment__id, estimated_distance, estimated_time\r\n",
                "--Table Creation\r\n",
                "use shipping;\r\n",
                "CREATE TABLE package (\r\n",
                "    id INT PRIMARY KEY,\r\n",
                "    width INT,    -- In centimeters\r\n",
                "    length INT,     -- In centimeters\r\n",
                "    height INT,   -- In centimeters\r\n",
                "    weight INT,  -- In grams\r\n",
                "    price DECIMAL(10, 2),  -- In dollars\r\n",
                "    type INT,\r\n",
                "    insurance_id INT,\r\n",
                "    shipment_id INT,\r\n",
                "    estimated_distance INT,\r\n",
                "    estimated_time_from_dispatch INT,\r\n",
                "    time_created TIMESTAMP,\r\n",
                "    time_updated TIMESTAMP,\r\n",
                "    time_of_dispatch TIMESTAMP,\r\n",
                "    time_of_delivery TIMESTAMP,\r\n",
                "    delivery_cordinates_x DECIMAL(6,4),\r\n",
                "    delivery_cordinates_y DECIMAL(6,4),\r\n",
                "    delivery_conformation VARCHAR(255)\r\n",
                ");\r\n",
                "\r\n",
                "INSERT INTO package (\r\n",
                "   id, width, length, height, weight, price, type, \r\n",
                "    shipment_id, estimated_distance,\r\n",
                "   estimated_time_from_dispatch, time_created, time_updated,\r\n",
                "   time_of_dispatch, time_of_delivery, delivery_cordinates_x, delivery_cordinates_y,\r\n",
                "   delivery_conformation\r\n",
                ") VALUES (\r\n",
                "   123456, 30, 40, 20, 500, 99.99, 1,\r\n",
                "    1, 1000, 48,\r\n",
                "   NOW(), NOW(),DATE_ADD(NOW(), INTERVAL 1 DAY),\r\n",
                "   DATE_ADD(NOW(), INTERVAL 3 DAY), 42.4401, -79.3317, \"Left At Front Door\"\r\n",
                ");\r\n",
                "\r\n",
                "\r\n",
                "Create Table shipment_type (\r\n",
                "    id INT PRIMARY KEY,\r\n",
                "    name VARCHAR(50),\r\n",
                "    priority INT,\r\n",
                "    description VARCHAR(255),\r\n",
                "    days_per500Miles INT,\r\n",
                "    cost_per500Miles DECIMAL(10, 2)\r\n",
                ");\r\n",
                "\r\n",
                "Create Table insurance (\r\n",
                "    id INT PRIMARY KEY,\r\n",
                "    type INT,\r\n",
                "    price DECIMAL(10, 2),\r\n",
                "    value_coverage DECIMAL(10, 2)\r\n",
                ");\r\n",
                "\r\n",
                "Create Table insuranceType(\r\n",
                "    id INT PRIMARY KEY,\r\n",
                "    name VARCHAR(50),\r\n",
                "    description VARCHAR(255),\r\n",
                "    min_coverage DECIMAL(10, 2),\r\n",
                "    max_coverage DECIMAL(10, 2),\r\n",
                "    cost_per_dollar DECIMAL(10, 2)\r\n",
                ");\r\n",
                "\r\n",
                "Create Table package_status (\r\n",
                "    id INT PRIMARY KEY, \r\n",
                "    package_id INT, \r\n",
                "    status INT,\r\n",
                "    time_created TIMESTAMP,\r\n",
                "    location_x DECIMAL(6,4),\r\n",
                "    location_y DECIMAL(6,4),\r\n",
                "    location_name VARCHAR(255)\r\n",
                ");\r\n",
                "\r\n",
                "\r\n",
                "Create Table status_info (\r\n",
                "    id INT PRIMARY KEY,\r\n",
                "    name VARCHAR(50),\r\n",
                "    description VARCHAR(255),\r\n",
                "    progress_bar_percentage INT,\r\n",
                "    tense_name VARCHAR(50)\r\n",
                ");\r\n",
                "\r\n",
                ""
            ],
            "metadata": {
                "azdata_cell_guid": "d94ac79f-e3d5-40e7-8e4f-ba23b921f44c",
                "language": "sql"
            },
            "outputs": [
                {
                    "output_type": "display_data",
                    "data": {
                        "text/html": "Commands completed successfully"
                    },
                    "metadata": {}
                },
                {
                    "output_type": "display_data",
                    "data": {
                        "text/html": "Commands completed successfully"
                    },
                    "metadata": {}
                },
                {
                    "output_type": "display_data",
                    "data": {
                        "text/html": "Commands completed successfully"
                    },
                    "metadata": {}
                },
                {
                    "output_type": "display_data",
                    "data": {
                        "text/html": "Commands completed successfully"
                    },
                    "metadata": {}
                },
                {
                    "output_type": "display_data",
                    "data": {
                        "text/html": "Commands completed successfully"
                    },
                    "metadata": {}
                },
                {
                    "output_type": "display_data",
                    "data": {
                        "text/html": "Commands completed successfully"
                    },
                    "metadata": {}
                },
                {
                    "output_type": "display_data",
                    "data": {
                        "text/html": "Commands completed successfully"
                    },
                    "metadata": {}
                },
                {
                    "output_type": "display_data",
                    "data": {
                        "text/html": "Commands completed successfully"
                    },
                    "metadata": {}
                },
                {
                    "output_type": "display_data",
                    "data": {
                        "text/html": "Total execution time: 00:00:00.067"
                    },
                    "metadata": {}
                }
            ],
            "execution_count": 67
        },
        {
            "cell_type": "code",
            "source": [
                "--generate some statuses for the package above\r\n",
                "INSERT INTO package_status (id, package_id, status, time_created, location_x, location_y) VALUES \r\n",
                "(1, 123456, 1, NOW(), 42.4401, -79.3317),\r\n",
                "(2, 123456, 2, DATE_ADD(NOW(), INTERVAL 1 DAY), 42.4401, -79.3317),\r\n",
                "(3, 123456, 3, DATE_ADD(NOW(), INTERVAL 2 DAY), 42.4401, -79.3317),\r\n",
                "(4, 123456, 4, DATE_ADD(NOW(), INTERVAL 3 DAY), 42.4401, -79.3317);\r\n",
                "\r\n",
                "\r\n",
                "\r\n",
                "\r\n",
                "\r\n",
                "--Insurance codes\r\n",
                "INSERT INTO insuranceType (id, name, description, min_coverage, max_coverage, cost_per_dollar)\r\n",
                "VALUES \r\n",
                "(1, 'Basic Parcel', 'Standard coverage for low-value domestic shipments', 100.00, 1000.00, 0.05),\r\n",
                "\r\n",
                "(2, 'Premium Parcel', 'Enhanced coverage for valuable domestic shipments', 1000.01, 5000.00, 0.06),\r\n",
                "\r\n",
                "(3, 'Perishable Goods', 'Coverage for temperature-sensitive and perishable items', 500.00, 10000.00, 0.09);\r\n",
                "\r\n",
                "\r\n",
                "INSERT INTO status_info (id, name, tense_name, description, progress_bar_percentage) VALUES\r\n",
                "-- Initial States\r\n",
                "(1, 'Scanned', 'has been scanned', 'Package has been scanned into the system but not yet dispatched', 10),\r\n",
                "(2, 'Dispatched', 'is being dispatched', 'Package has been dispatched for delivery', 15),\r\n",
                "(3, 'In Transit', 'is in transit', 'Package is in transit between facilities', 25),\r\n",
                "(4, 'Processing', 'is being processed', 'Package is being processed at a facility', NULL),\r\n",
                "(5, 'Delivered', 'has been delivered', 'Package has been successfully delivered to its destination', 100),\r\n",
                "(6, 'Lost', 'has been lost', 'Package has been reported as lost', 0),\r\n",
                "(7, 'Damaged', 'has been damaged', 'Package has been reported as damaged', 0),\r\n",
                "(8, 'Returned', 'is being returned', 'Package is being returned to sender', 0),\r\n",
                "(9, 'Cancelled', 'has been cancelled', 'Delivery has been cancelled', 0),\r\n",
                "(10, 'On Hold', 'is on hold', 'Package delivery is temporarily on hold', 0),\r\n",
                "(11, 'Out for Delivery', 'is out for delivery', 'Package is out for final delivery', 90),\r\n",
                "\r\n",
                "-- Facility Status Codes\r\n",
                "(20, 'Arrived at Facility', 'has arrived at facility', 'Package has arrived at a general facility', NULL),\r\n",
                "(21, 'Departed from Facility', 'has departed from facility', 'Package has departed from a general facility', NULL),\r\n",
                "(22, 'Arrived at Local Facility', 'has arrived at local facility', 'Package has arrived at a local facility', NULL),\r\n",
                "(23, 'Departed from Local Facility', 'has departed from local facility', 'Package has departed from local facility', NULL);"
            ],
            "metadata": {
                "language": "sql",
                "azdata_cell_guid": "d0cbaabf-c44e-41eb-b379-761ba6275e32",
                "tags": []
            },
            "outputs": [
                {
                    "output_type": "display_data",
                    "data": {
                        "text/html": "Commands completed successfully"
                    },
                    "metadata": {}
                },
                {
                    "output_type": "display_data",
                    "data": {
                        "text/html": "Commands completed successfully"
                    },
                    "metadata": {}
                },
                {
                    "output_type": "display_data",
                    "data": {
                        "text/html": "Commands completed successfully"
                    },
                    "metadata": {}
                },
                {
                    "output_type": "display_data",
                    "data": {
                        "text/html": "Total execution time: 00:00:00.006"
                    },
                    "metadata": {}
                }
            ],
            "execution_count": 71
        },
        {
            "cell_type": "code",
            "source": [
                "-- Constraint Creation\r\n",
                "-- id must be a 10 digit number\r\n",
                "ALTER TABLE users\r\n",
                "ADD CONSTRAINT id_length\r\n",
                "CHECK (LENGTH(id) = 10);\r\n",
                "\r\n",
                "\r\n",
                "\r\n",
                "\r\n",
                "\r\n",
                "\r\n",
                "--Forign Keys\r\n",
                ""
            ],
            "metadata": {
                "language": "sql",
                "azdata_cell_guid": "4251712f-f733-4813-a0a8-2ae75bc130e7"
            },
            "outputs": [],
            "execution_count": null
        },
        {
            "cell_type": "code",
            "source": [
                "--functions\r\n",
                "INSERT INTO package_status (id, package_id, status, time_created, location_x, location_y) VALUES \r\n",
                "(50, 1, 1, NOW(), 42.4401, -79.3317);"
            ],
            "metadata": {
                "azdata_cell_guid": "10dc05ec-4726-4c8c-8ba3-4280c6eaa96b",
                "language": "sql",
                "tags": []
            },
            "outputs": [
                {
                    "output_type": "display_data",
                    "data": {
                        "text/html": "Commands completed successfully"
                    },
                    "metadata": {}
                },
                {
                    "output_type": "display_data",
                    "data": {
                        "text/html": "Total execution time: 00:00:00.002"
                    },
                    "metadata": {}
                }
            ],
            "execution_count": 73
        },
        {
            "cell_type": "code",
            "source": [
                "--Sample Data\r\n",
                "\r\n",
                "insert into insurance (id, type, price, value_coverage) values (1, 1, 10.00, 100.00);\r\n",
                "\r\n",
                "INSERT INTO package (\r\n",
                "   id, width, length, height, weight, price, type, \r\n",
                "   insurance_id, shipment_id, estimated_distance,\r\n",
                "   estimated_time_from_dispatch, time_created, time_updated,\r\n",
                "   time_of_dispatch, time_of_delivery, delivery_cordinates_x, delivery_cordinates_y,\r\n",
                "   delivery_conformation\r\n",
                ") VALUES (\r\n",
                "   1234567, 30, 40, 20, 500, 99.99, 1,\r\n",
                "   1, 1, 1000, 48,\r\n",
                "   NOW(), NOW(),DATE_ADD(NOW(), INTERVAL 1 DAY),\r\n",
                "   DATE_ADD(NOW(), INTERVAL 3 DAY), 42.4401, -79.3317, \"Left At Front Door\"\r\n",
                ");\r\n",
                "\r\n",
                ""
            ],
            "metadata": {
                "language": "sql",
                "azdata_cell_guid": "2e5afe95-d6ad-4ed3-b5e9-16b45c2f5815",
                "tags": []
            },
            "outputs": [
                {
                    "output_type": "display_data",
                    "data": {
                        "text/html": "Commands completed successfully"
                    },
                    "metadata": {}
                },
                {
                    "output_type": "display_data",
                    "data": {
                        "text/html": "Commands completed successfully"
                    },
                    "metadata": {}
                },
                {
                    "output_type": "display_data",
                    "data": {
                        "text/html": "Total execution time: 00:00:00.003"
                    },
                    "metadata": {}
                }
            ],
            "execution_count": 69
        },
        {
            "cell_type": "code",
            "source": [
                "select * from package;\r\n",
                "select * from package;\r\n",
                "INSERT INTO package (\r\n",
                "   id, width, length, height, weight, price, type, \r\n",
                "    shipment_id, estimated_distance,\r\n",
                "   estimated_time_from_dispatch, time_created, time_updated,\r\n",
                "   time_of_dispatch, delivery_cordinates_x, delivery_cordinates_y,\r\n",
                "   delivery_conformation\r\n",
                ") VALUES (\r\n",
                "   1, 30, 40, 20, 500, 99.99, 1,\r\n",
                "    1, 1000, 48,\r\n",
                "   NOW(), NOW(),\r\n",
                "   DATE_ADD(NOW(), INTERVAL 3 DAY), 42.4401, -79.3317, \"Left At Front Door\"\r\n",
                ");\r\n",
                "INSERT INTO package (\r\n",
                "   id, width, length, height, weight, price, type, \r\n",
                "    shipment_id, estimated_distance,\r\n",
                "   estimated_time_from_dispatch, time_created, time_updated,\r\n",
                "   time_of_dispatch, time_of_delivery, delivery_cordinates_x, delivery_cordinates_y,\r\n",
                "   delivery_conformation\r\n",
                ") VALUES (\r\n",
                "   123456, 30, 40, 20, 500, 99.99, 1,\r\n",
                "    1, 1000, 48,\r\n",
                "   NOW(), NOW(),DATE_ADD(NOW(), INTERVAL 1 DAY),\r\n",
                "   DATE_ADD(NOW(), INTERVAL 3 DAY), 42.4401, -79.3317, \"Left At Front Door\"\r\n",
                ");"
            ],
            "metadata": {
                "azdata_cell_guid": "bd08861f-ddbe-4215-9e32-aff7ce28ccf8",
                "language": "sql"
            },
            "outputs": [
                {
                    "output_type": "display_data",
                    "data": {
                        "text/html": "(2 row(s) affected)"
                    },
                    "metadata": {}
                },
                {
                    "output_type": "display_data",
                    "data": {
                        "text/html": "(2 row(s) affected)"
                    },
                    "metadata": {}
                },
                {
                    "output_type": "display_data",
                    "data": {
                        "text/html": "Commands completed successfully"
                    },
                    "metadata": {}
                },
                {
                    "output_type": "display_data",
                    "data": {
                        "text/html": "Total execution time: 00:00:02.021"
                    },
                    "metadata": {}
                },
                {
                    "output_type": "execute_result",
                    "metadata": {},
                    "execution_count": 70,
                    "data": {
                        "application/vnd.dataresource+json": {
                            "schema": {
                                "fields": [
                                    {
                                        "name": "id"
                                    },
                                    {
                                        "name": "width"
                                    },
                                    {
                                        "name": "length"
                                    },
                                    {
                                        "name": "height"
                                    },
                                    {
                                        "name": "weight"
                                    },
                                    {
                                        "name": "price"
                                    },
                                    {
                                        "name": "type"
                                    },
                                    {
                                        "name": "insurance_id"
                                    },
                                    {
                                        "name": "shipment_id"
                                    },
                                    {
                                        "name": "estimated_distance"
                                    },
                                    {
                                        "name": "estimated_time_from_dispatch"
                                    },
                                    {
                                        "name": "time_created"
                                    },
                                    {
                                        "name": "time_updated"
                                    },
                                    {
                                        "name": "time_of_dispatch"
                                    },
                                    {
                                        "name": "time_of_delivery"
                                    },
                                    {
                                        "name": "delivery_cordinates_x"
                                    },
                                    {
                                        "name": "delivery_cordinates_y"
                                    },
                                    {
                                        "name": "delivery_conformation"
                                    }
                                ]
                            },
                            "data": [
                                {
                                    "id": "123456",
                                    "width": "30",
                                    "length": "40",
                                    "height": "20",
                                    "weight": "500",
                                    "price": "99.99",
                                    "type": "1",
                                    "insurance_id": "NULL",
                                    "shipment_id": "1",
                                    "estimated_distance": "1000",
                                    "estimated_time_from_dispatch": "48",
                                    "time_created": "2024-11-29 23:06:21",
                                    "time_updated": "2024-11-29 23:06:21",
                                    "time_of_dispatch": "2024-11-30 23:06:21",
                                    "time_of_delivery": "2024-12-02 23:06:21",
                                    "delivery_cordinates_x": "42.4401",
                                    "delivery_cordinates_y": "-79.3317",
                                    "delivery_conformation": "Left At Front Door"
                                },
                                {
                                    "id": "1234567",
                                    "width": "30",
                                    "length": "40",
                                    "height": "20",
                                    "weight": "500",
                                    "price": "99.99",
                                    "type": "1",
                                    "insurance_id": "1",
                                    "shipment_id": "1",
                                    "estimated_distance": "1000",
                                    "estimated_time_from_dispatch": "48",
                                    "time_created": "2024-11-29 23:06:25",
                                    "time_updated": "2024-11-29 23:06:25",
                                    "time_of_dispatch": "2024-11-30 23:06:25",
                                    "time_of_delivery": "2024-12-02 23:06:25",
                                    "delivery_cordinates_x": "42.4401",
                                    "delivery_cordinates_y": "-79.3317",
                                    "delivery_conformation": "Left At Front Door"
                                }
                            ]
                        },
                        "text/html": [
                            "<table>",
                            "<tr><th>id</th><th>width</th><th>length</th><th>height</th><th>weight</th><th>price</th><th>type</th><th>insurance_id</th><th>shipment_id</th><th>estimated_distance</th><th>estimated_time_from_dispatch</th><th>time_created</th><th>time_updated</th><th>time_of_dispatch</th><th>time_of_delivery</th><th>delivery_cordinates_x</th><th>delivery_cordinates_y</th><th>delivery_conformation</th></tr>",
                            "<tr><td>123456</td><td>30</td><td>40</td><td>20</td><td>500</td><td>99.99</td><td>1</td><td>NULL</td><td>1</td><td>1000</td><td>48</td><td>2024-11-29 23:06:21</td><td>2024-11-29 23:06:21</td><td>2024-11-30 23:06:21</td><td>2024-12-02 23:06:21</td><td>42.4401</td><td>-79.3317</td><td>Left At Front Door</td></tr>",
                            "<tr><td>1234567</td><td>30</td><td>40</td><td>20</td><td>500</td><td>99.99</td><td>1</td><td>1</td><td>1</td><td>1000</td><td>48</td><td>2024-11-29 23:06:25</td><td>2024-11-29 23:06:25</td><td>2024-11-30 23:06:25</td><td>2024-12-02 23:06:25</td><td>42.4401</td><td>-79.3317</td><td>Left At Front Door</td></tr>",
                            "</table>"
                        ]
                    }
                },
                {
                    "output_type": "execute_result",
                    "metadata": {},
                    "execution_count": 70,
                    "data": {
                        "application/vnd.dataresource+json": {
                            "schema": {
                                "fields": [
                                    {
                                        "name": "id"
                                    },
                                    {
                                        "name": "width"
                                    },
                                    {
                                        "name": "length"
                                    },
                                    {
                                        "name": "height"
                                    },
                                    {
                                        "name": "weight"
                                    },
                                    {
                                        "name": "price"
                                    },
                                    {
                                        "name": "type"
                                    },
                                    {
                                        "name": "insurance_id"
                                    },
                                    {
                                        "name": "shipment_id"
                                    },
                                    {
                                        "name": "estimated_distance"
                                    },
                                    {
                                        "name": "estimated_time_from_dispatch"
                                    },
                                    {
                                        "name": "time_created"
                                    },
                                    {
                                        "name": "time_updated"
                                    },
                                    {
                                        "name": "time_of_dispatch"
                                    },
                                    {
                                        "name": "time_of_delivery"
                                    },
                                    {
                                        "name": "delivery_cordinates_x"
                                    },
                                    {
                                        "name": "delivery_cordinates_y"
                                    },
                                    {
                                        "name": "delivery_conformation"
                                    }
                                ]
                            },
                            "data": [
                                {
                                    "id": "123456",
                                    "width": "30",
                                    "length": "40",
                                    "height": "20",
                                    "weight": "500",
                                    "price": "99.99",
                                    "type": "1",
                                    "insurance_id": "NULL",
                                    "shipment_id": "1",
                                    "estimated_distance": "1000",
                                    "estimated_time_from_dispatch": "48",
                                    "time_created": "2024-11-29 23:06:21",
                                    "time_updated": "2024-11-29 23:06:21",
                                    "time_of_dispatch": "2024-11-30 23:06:21",
                                    "time_of_delivery": "2024-12-02 23:06:21",
                                    "delivery_cordinates_x": "42.4401",
                                    "delivery_cordinates_y": "-79.3317",
                                    "delivery_conformation": "Left At Front Door"
                                },
                                {
                                    "id": "1234567",
                                    "width": "30",
                                    "length": "40",
                                    "height": "20",
                                    "weight": "500",
                                    "price": "99.99",
                                    "type": "1",
                                    "insurance_id": "1",
                                    "shipment_id": "1",
                                    "estimated_distance": "1000",
                                    "estimated_time_from_dispatch": "48",
                                    "time_created": "2024-11-29 23:06:25",
                                    "time_updated": "2024-11-29 23:06:25",
                                    "time_of_dispatch": "2024-11-30 23:06:25",
                                    "time_of_delivery": "2024-12-02 23:06:25",
                                    "delivery_cordinates_x": "42.4401",
                                    "delivery_cordinates_y": "-79.3317",
                                    "delivery_conformation": "Left At Front Door"
                                }
                            ]
                        },
                        "text/html": [
                            "<table>",
                            "<tr><th>id</th><th>width</th><th>length</th><th>height</th><th>weight</th><th>price</th><th>type</th><th>insurance_id</th><th>shipment_id</th><th>estimated_distance</th><th>estimated_time_from_dispatch</th><th>time_created</th><th>time_updated</th><th>time_of_dispatch</th><th>time_of_delivery</th><th>delivery_cordinates_x</th><th>delivery_cordinates_y</th><th>delivery_conformation</th></tr>",
                            "<tr><td>123456</td><td>30</td><td>40</td><td>20</td><td>500</td><td>99.99</td><td>1</td><td>NULL</td><td>1</td><td>1000</td><td>48</td><td>2024-11-29 23:06:21</td><td>2024-11-29 23:06:21</td><td>2024-11-30 23:06:21</td><td>2024-12-02 23:06:21</td><td>42.4401</td><td>-79.3317</td><td>Left At Front Door</td></tr>",
                            "<tr><td>1234567</td><td>30</td><td>40</td><td>20</td><td>500</td><td>99.99</td><td>1</td><td>1</td><td>1</td><td>1000</td><td>48</td><td>2024-11-29 23:06:25</td><td>2024-11-29 23:06:25</td><td>2024-11-30 23:06:25</td><td>2024-12-02 23:06:25</td><td>42.4401</td><td>-79.3317</td><td>Left At Front Door</td></tr>",
                            "</table>"
                        ]
                    }
                },
                {
                    "output_type": "error",
                    "evalue": "1062 (23000): Duplicate entry '123456' for key 'package.PRIMARY'",
                    "ename": "",
                    "traceback": []
                }
            ],
            "execution_count": 70
        }
    ]
}